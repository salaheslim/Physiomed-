{
  "nbformat": 4,
  "nbformat_minor": 0,
  "metadata": {
    "colab": {
      "provenance": [],
      "include_colab_link": true
    },
    "kernelspec": {
      "name": "python3",
      "display_name": "Python 3"
    },
    "language_info": {
      "name": "python"
    }
  },
  "cells": [
    {
      "cell_type": "markdown",
      "metadata": {
        "id": "view-in-github",
        "colab_type": "text"
      },
      "source": [
        "<a href=\"https://colab.research.google.com/github/salaheslim/Physiomed-/blob/main/How_to_merge_the_multiple_csv_files.ipynb\" target=\"_parent\"><img src=\"https://colab.research.google.com/assets/colab-badge.svg\" alt=\"Open In Colab\"/></a>"
      ]
    },
    {
      "cell_type": "markdown",
      "source": [
        "### **Mounting the google drive to the colab environment:**"
      ],
      "metadata": {
        "id": "swmzfS3bbvzE"
      }
    },
    {
      "cell_type": "code",
      "source": [
        "import numpy as np\n",
        "import matplotlib.pyplot as plt\n",
        "import pandas as pd\n",
        "import numpy as np\n",
        "import seaborn as sns\n",
        "from sklearn import preprocessing\n",
        "import warnings\n",
        "warnings.filterwarnings('ignore')\n",
        "%matplotlib inline"
      ],
      "metadata": {
        "id": "GOlpysndckvF"
      },
      "execution_count": null,
      "outputs": []
    },
    {
      "cell_type": "code",
      "source": [
        "from google.colab import drive\n",
        "drive.mount('/content/drive')"
      ],
      "metadata": {
        "id": "9ekzRnwM31ZA"
      },
      "execution_count": null,
      "outputs": []
    },
    {
      "cell_type": "code",
      "source": [
        "%cd '/content/drive/MyDrive/data sets'"
      ],
      "metadata": {
        "id": "4r91f2MP33ag"
      },
      "execution_count": null,
      "outputs": []
    },
    {
      "cell_type": "code",
      "source": [
        "%ls"
      ],
      "metadata": {
        "id": "d6-j0IMV5Zqh"
      },
      "execution_count": null,
      "outputs": []
    },
    {
      "cell_type": "code",
      "execution_count": null,
      "metadata": {
        "id": "np6Ny_IuFCbq"
      },
      "outputs": [],
      "source": [
        "import pandas as pd\n",
        "import glob\n",
        "\n",
        "# Get all CSV files in the folder\n",
        "csv_files = glob.glob(\"/content/drive/MyDrive/data sets/*.csv\")\n",
        "\n",
        "# Read and combine all CSV files\n",
        "combined_df = pd.concat([pd.read_csv(file) for file in csv_files], ignore_index=True)\n",
        "\n",
        "# Save to a new CSV file\n",
        "combined_df.to_csv(\"combined_output.csv\", index=False)\n",
        "\n",
        "print(\"All CSV files have been merged into 'combined_output.csv'.\")\n"
      ]
    },
    {
      "cell_type": "code",
      "source": [
        "df = pd.read_csv('combined_output.csv')\n"
      ],
      "metadata": {
        "id": "uFGLcwoMUBw7"
      },
      "execution_count": null,
      "outputs": []
    },
    {
      "cell_type": "code",
      "source": [
        "df.shape"
      ],
      "metadata": {
        "id": "J_GjJ75LDoso"
      },
      "execution_count": null,
      "outputs": []
    },
    {
      "cell_type": "code",
      "source": [
        "df.isnull().sum()"
      ],
      "metadata": {
        "id": "LOde3FDqIRKJ"
      },
      "execution_count": null,
      "outputs": []
    },
    {
      "cell_type": "code",
      "source": [
        "df.head(200)"
      ],
      "metadata": {
        "id": "0x_Ko8w9-hPK"
      },
      "execution_count": null,
      "outputs": []
    },
    {
      "cell_type": "code",
      "source": [
        "df.info()"
      ],
      "metadata": {
        "id": "d504PHHFCPSF"
      },
      "execution_count": null,
      "outputs": []
    },
    {
      "cell_type": "code",
      "source": [
        "df.describe()\n"
      ],
      "metadata": {
        "id": "Tx8zYLiMCnzN"
      },
      "execution_count": null,
      "outputs": []
    },
    {
      "cell_type": "code",
      "source": [
        "df.columns"
      ],
      "metadata": {
        "id": "zbfvMEosO7c7"
      },
      "execution_count": null,
      "outputs": []
    },
    {
      "cell_type": "code",
      "source": [
        "stations= df['station'].value_counts()\n",
        "print(f'Total number of stations  in the dataset : {len(stations)}')\n",
        "stations"
      ],
      "metadata": {
        "id": "i4brWJhkPbwT"
      },
      "execution_count": null,
      "outputs": []
    },
    {
      "cell_type": "code",
      "source": [
        "import pandas\n",
        "import matplotlib\n",
        "import scipy\n",
        "import seaborn as sns"
      ],
      "metadata": {
        "id": "1u9JdVWEYhau"
      },
      "execution_count": null,
      "outputs": []
    },
    {
      "cell_type": "code",
      "source": [
        "from matplotlib import pyplot as plt\n",
        "\n",
        "plt.scatter(df.SO2,df.PM10)\n",
        "\n",
        "plt.xlabel('PM2.5')\n",
        "plt.ylabel('PM10')\n",
        "plt.title('PM2.5 vs PM10')\n",
        "sns.set()\n",
        "plt.show()"
      ],
      "metadata": {
        "id": "I2ZmTGFemeqY"
      },
      "execution_count": null,
      "outputs": []
    },
    {
      "cell_type": "markdown",
      "source": [
        " #Combine Date Columns into a Single datetime Column"
      ],
      "metadata": {
        "id": "WOVR2AfkiPfo"
      }
    },
    {
      "cell_type": "code",
      "source": [
        "df['datetime'] = pd.to_datetime(df[['year', 'month', 'day', 'hour']])\n",
        "df.drop(columns=['year', 'month', 'day', 'hour'], inplace=True)\n"
      ],
      "metadata": {
        "id": "bg6iW-9SXxMd"
      },
      "execution_count": null,
      "outputs": []
    },
    {
      "cell_type": "code",
      "source": [
        "df.info()"
      ],
      "metadata": {
        "id": "Zm0lvy5OjALp"
      },
      "execution_count": null,
      "outputs": []
    },
    {
      "cell_type": "markdown",
      "source": [
        "Handle Missing Values\n",
        "dataset has missing values in several columns, especially PM2.5, PM10, NO2, CO, and O3 i will Fill missing values with the mean."
      ],
      "metadata": {
        "id": "azgCaH_Aj9Xo"
      }
    },
    {
      "cell_type": "code",
      "source": [
        "df.fillna(method='ffill', inplace=True)  # Forward fill (uses previous row value)\n",
        "df.fillna(df.mean(), inplace=True)  # Fill with column mean (alternative)\n"
      ],
      "metadata": {
        "id": "QWKmX0D5jpOq"
      },
      "execution_count": null,
      "outputs": []
    },
    {
      "cell_type": "markdown",
      "source": [
        "WD will change it from string to category as machine learning likes numbers more than string"
      ],
      "metadata": {
        "id": "NSNPT52Zk0JW"
      }
    },
    {
      "cell_type": "code",
      "source": [
        "df['wd'] = df['wd'].astype('category').cat.codes\n"
      ],
      "metadata": {
        "id": "bb81gIKElLEN"
      },
      "execution_count": null,
      "outputs": []
    }
  ]
}